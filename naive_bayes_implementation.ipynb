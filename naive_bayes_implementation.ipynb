{
 "cells": [
  {
   "cell_type": "code",
   "execution_count": 28,
   "id": "0c594fd1-5df0-4d6e-a285-10370817a772",
   "metadata": {},
   "outputs": [],
   "source": [
    "import pandas as pd\n",
    "import math"
   ]
  },
  {
   "cell_type": "code",
   "execution_count": 29,
   "id": "81e2c79c-b328-4ae1-9c4d-43801b352fdf",
   "metadata": {},
   "outputs": [
    {
     "name": "stdout",
     "output_type": "stream",
     "text": [
      "  animal_name  hair  feathers  eggs  milk  airborne  aquatic  predator  \\\n",
      "0    aardvark     1         0     0     1         0        0         1   \n",
      "1    antelope     1         0     0     1         0        0         0   \n",
      "2        bass     0         0     1     0         0        1         1   \n",
      "3        bear     1         0     0     1         0        0         1   \n",
      "4        boar     1         0     0     1         0        0         1   \n",
      "\n",
      "   toothed  backbone  breathes  venomous  fins  legs  tail  domestic  catsize  \\\n",
      "0        1         1         1         0     0     4     0         0        1   \n",
      "1        1         1         1         0     0     4     1         0        1   \n",
      "2        1         1         0         0     1     0     1         0        0   \n",
      "3        1         1         1         0     0     4     0         0        1   \n",
      "4        1         1         1         0     0     4     1         0        1   \n",
      "\n",
      "   class_type  \n",
      "0           1  \n",
      "1           1  \n",
      "2           4  \n",
      "3           1  \n",
      "4           1  \n"
     ]
    }
   ],
   "source": [
    "data = pd.read_csv('zoo.csv')\n",
    "print(data.head())"
   ]
  },
  {
   "cell_type": "code",
   "execution_count": 30,
   "id": "52240c52-f025-482f-9d1a-8b4dc58d8fef",
   "metadata": {},
   "outputs": [],
   "source": [
    "# Identify the target column 'class_type' before modification\n",
    "class_type_col = data.columns[-1]"
   ]
  },
  {
   "cell_type": "code",
   "execution_count": 31,
   "id": "f7d0e159-705d-4473-af2e-252d5cfb8be7",
   "metadata": {},
   "outputs": [
    {
     "name": "stdout",
     "output_type": "stream",
     "text": [
      "[4 0 2 6 8 5]\n"
     ]
    }
   ],
   "source": [
    "# Make 'legs' feature boolean type\n",
    "leg_numbers = data['legs'].unique()\n",
    "print(leg_numbers)"
   ]
  },
  {
   "cell_type": "code",
   "execution_count": 32,
   "id": "57e686fe-e59b-41b3-875b-6596ccc01179",
   "metadata": {},
   "outputs": [],
   "source": [
    "for value in leg_numbers:\n",
    "    data[f'leg_number_is_{value}'] = (data['legs'] == value).astype(int)\n",
    "\n",
    "data = data.drop(columns=['legs'])"
   ]
  },
  {
   "cell_type": "code",
   "execution_count": 33,
   "id": "2ca0dfe9-4b54-4892-b3cd-891ef66a6c7b",
   "metadata": {},
   "outputs": [
    {
     "name": "stdout",
     "output_type": "stream",
     "text": [
      "Updated Dataframe: \n",
      "  animal_name  hair  feathers  eggs  milk  airborne  aquatic  predator  \\\n",
      "0    aardvark     1         0     0     1         0        0         1   \n",
      "1    antelope     1         0     0     1         0        0         0   \n",
      "2        bass     0         0     1     0         0        1         1   \n",
      "3        bear     1         0     0     1         0        0         1   \n",
      "4        boar     1         0     0     1         0        0         1   \n",
      "\n",
      "   toothed  backbone  ...  tail  domestic  catsize  leg_number_is_4  \\\n",
      "0        1         1  ...     0         0        1                1   \n",
      "1        1         1  ...     1         0        1                1   \n",
      "2        1         1  ...     1         0        0                0   \n",
      "3        1         1  ...     0         0        1                1   \n",
      "4        1         1  ...     1         0        1                1   \n",
      "\n",
      "   leg_number_is_0  leg_number_is_2  leg_number_is_6  leg_number_is_8  \\\n",
      "0                0                0                0                0   \n",
      "1                0                0                0                0   \n",
      "2                1                0                0                0   \n",
      "3                0                0                0                0   \n",
      "4                0                0                0                0   \n",
      "\n",
      "   leg_number_is_5  class_type  \n",
      "0                0           1  \n",
      "1                0           1  \n",
      "2                0           4  \n",
      "3                0           1  \n",
      "4                0           1  \n",
      "\n",
      "[5 rows x 23 columns]\n"
     ]
    }
   ],
   "source": [
    "# Reorder columns to ensure 'class_type' is the last column\n",
    "cols = [col for col in data.columns if col != class_type_col] + [class_type_col]\n",
    "data = data[cols]\n",
    "\n",
    "# Check the updated dataframe\n",
    "print(\"Updated Dataframe: \")\n",
    "print(data.head())"
   ]
  },
  {
   "cell_type": "code",
   "execution_count": 34,
   "id": "427cd77d-69bb-42ce-9a4e-a2fd49c0d1e8",
   "metadata": {},
   "outputs": [],
   "source": [
    "# Split data into training and testing sets (70/30 split)\n",
    "train = data.sample(frac=0.7, random_state=1)\n",
    "test = data.drop(train.index)"
   ]
  },
  {
   "cell_type": "code",
   "execution_count": 35,
   "id": "87866ca9-c617-4898-9e4b-eb81730d3a78",
   "metadata": {},
   "outputs": [],
   "source": [
    "# Calculate class probabilities\n",
    "def get_class_probs(train_data):\n",
    "    class_probs = {}\n",
    "    classes = train_data['class_type'].unique()\n",
    "    total_count = len(train_data)\n",
    "    \n",
    "    for class_value in classes:\n",
    "        class_data = train_data[train_data['class_type'] == class_value]\n",
    "        class_count = len(class_data)\n",
    "        class_probs[class_value] = class_count / total_count\n",
    "\n",
    "    return class_probs"
   ]
  },
  {
   "cell_type": "code",
   "execution_count": 36,
   "id": "4705e246-15f9-4525-95ca-0f52121f1171",
   "metadata": {},
   "outputs": [],
   "source": [
    "# Calculate conditional probabilities with Laplace smoothing\n",
    "def get_conditional_probs(train_data):\n",
    "    conditional_probs = {}\n",
    "    classes = train_data['class_type'].unique()\n",
    "\n",
    "    for class_value in classes:\n",
    "        class_data = train_data[train_data['class_type'] == class_value]\n",
    "        class_instance_count = len(class_data)\n",
    "        conditional_probs[class_value] = {}\n",
    "        \n",
    "\n",
    "        # Loop through each feature, excluding 'animal_name' and 'class_type'\n",
    "        for feature in train_data.columns.drop(['animal_name', 'class_type']):\n",
    "            # Count the number of 1s and 0s for each feature in this class\n",
    "            count_1 = class_data[feature].sum() # Number of 1s\n",
    "            count_0 = class_instance_count - count_1 # Number of 0s\n",
    "\n",
    "            # Use a small probability if the value wasn't seen (Laplace smoothing)\n",
    "            prob_1 = (count_1 + 1e-4) / (class_instance_count + 1e-4 * 2) # alpha = 0.0001\n",
    "            prob_0 = (count_0 + 1e-4) / (class_instance_count + 1e-4 * 2)\n",
    "                \n",
    "            conditional_probs[class_value][f'{feature}_probability_1'] = prob_1\n",
    "            conditional_probs[class_value][f'{feature}_probability_0'] = prob_0\n",
    "\n",
    "    return conditional_probs"
   ]
  },
  {
   "cell_type": "code",
   "execution_count": 37,
   "id": "895e5301-57a6-4a65-9346-9646bad8cc7f",
   "metadata": {},
   "outputs": [],
   "source": [
    "# Function to predict the class for a given instance\n",
    "def predict(test_instance, class_probs, conditional_probs):\n",
    "    probabilities = {}  # Stores the probabilities for each class\n",
    "    \n",
    "    # Loop through each class to calculate its probability\n",
    "    for class_value, class_prob in class_probs.items():\n",
    "        # Start with the class probability (prior)\n",
    "        probabilities[class_value] = math.log(class_prob)  # Use log for numerical stability\n",
    "        \n",
    "        # Multiply by the conditional probabilities for each feature\n",
    "        for feature in test_instance.index.drop('animal_name'):  \n",
    "            # Skip 'animal_name' only, as 'class_type' will be dropped while calling instance\n",
    "            \n",
    "            value = test_instance[feature]\n",
    "            \n",
    "            # Get the probability for feature being 1 or 0\n",
    "            prob_key = f'{feature}_probability_{value}'\n",
    "\n",
    "            # Add the log of the conditional probability\n",
    "            probabilities[class_value] += math.log(conditional_probs[class_value][prob_key])\n",
    "            \n",
    "\n",
    "    # Convert log probabilities back to real probabilities (exp)\n",
    "    probabilities = {class_value: math.exp(log_prob) for class_value, log_prob in probabilities.items()}\n",
    "    \n",
    "    # Normalize probabilities so they sum to 1\n",
    "    total = sum(probabilities.values())\n",
    "    probabilities = {class_value: prob / total for class_value, prob in probabilities.items()}\n",
    "\n",
    "    # Return the class with the highest probability\n",
    "    predicted_class = max(probabilities, key=probabilities.get)\n",
    "\n",
    "    return predicted_class, probabilities"
   ]
  },
  {
   "cell_type": "code",
   "execution_count": 38,
   "id": "b25ac214-8d29-4068-9f35-7048d26da98f",
   "metadata": {},
   "outputs": [],
   "source": [
    "# Get class probabilities and conditional probabilities from the training set\n",
    "class_probs = get_class_probs(train)\n",
    "conditional_probs = get_conditional_probs(train)\n",
    "\n",
    "\n",
    "# Prepare a list to hold the output data\n",
    "output_data = []\n",
    "\n",
    "# Iterate through the test set to make predictions and print to standard output\n",
    "# print(','.join(list(test.columns) + ['predicted', 'probability', 'correct?']))  # Print CSV header\n",
    "\n",
    "correct_predictions = 0  # Counter for correct predictions\n",
    "\n",
    "# Iterate over each row in the test set\n",
    "for index, row in test.iterrows():\n",
    "    # Get the instance without the class label\n",
    "    test_instance = row.drop('class_type') # Exclude the actual class for prediction\n",
    "    actual_class = row['class_type']  # The actual class label\n",
    "    predicted_class, probabilities = predict(test_instance, class_probs, conditional_probs)  # Predict the class\n",
    "\n",
    "    # Check if the prediction is correct\n",
    "    is_correct = (predicted_class == actual_class)\n",
    "    if is_correct:\n",
    "        correct_predictions += 1\n",
    "\n",
    "    # Prepare the row for output (include 'animal_name' and prediction results)\n",
    "    output_row = row.tolist() + [predicted_class, probabilities[predicted_class], \n",
    "                                 \"CORRECT\" if is_correct else \"wrong\"]\n",
    "    # print(','.join(map(str, output_row)))  # Print each row to standard output\n",
    "    \n",
    "    output_data.append(output_row)\n",
    "\n",
    "# Create a DataFrame for the output\n",
    "output_columns = list(test.columns) + ['predicted', 'probability', 'correct?']\n",
    "output_df = pd.DataFrame(output_data, columns=output_columns)\n",
    "\n"
   ]
  },
  {
   "cell_type": "code",
   "execution_count": 39,
   "id": "83bcaff7-af1e-4419-8f4f-b4f867d8c6f8",
   "metadata": {},
   "outputs": [
    {
     "name": "stdout",
     "output_type": "stream",
     "text": [
      "Output saved to output.csv\n"
     ]
    }
   ],
   "source": [
    "# print(output_df)\n",
    "\n",
    "# Save the results to a CSV file (Optional)\n",
    "output_df.to_csv('output.csv', index=False)\n",
    "print(\"Output saved to output.csv\")"
   ]
  },
  {
   "cell_type": "code",
   "execution_count": 40,
   "id": "56dcc4bd-d383-4f98-beba-4f239b3917fa",
   "metadata": {},
   "outputs": [
    {
     "name": "stdout",
     "output_type": "stream",
     "text": [
      "Accuracy: 96.67%\n"
     ]
    }
   ],
   "source": [
    "# Calculate and display accuracy\n",
    "accuracy = correct_predictions / len(test) * 100\n",
    "print(f\"Accuracy: {accuracy:.2f}%\")"
   ]
  },
  {
   "cell_type": "code",
   "execution_count": null,
   "id": "340ec7b6-6d56-417a-81a1-351fb197447c",
   "metadata": {},
   "outputs": [],
   "source": []
  }
 ],
 "metadata": {
  "kernelspec": {
   "display_name": "Python [conda env:cs437_ml]",
   "language": "python",
   "name": "conda-env-cs437_ml-py"
  },
  "language_info": {
   "codemirror_mode": {
    "name": "ipython",
    "version": 3
   },
   "file_extension": ".py",
   "mimetype": "text/x-python",
   "name": "python",
   "nbconvert_exporter": "python",
   "pygments_lexer": "ipython3",
   "version": "3.12.5"
  }
 },
 "nbformat": 4,
 "nbformat_minor": 5
}
